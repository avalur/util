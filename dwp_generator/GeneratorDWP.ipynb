{
 "cells": [
  {
   "cell_type": "code",
   "execution_count": 36,
   "metadata": {},
   "outputs": [
    {
     "name": "stdout",
     "output_type": "stream",
     "text": [
      "Requirement already satisfied: python-docx in c:\\users\\avalur\\anaconda3\\lib\\site-packages (0.8.11)\n",
      "Requirement already satisfied: lxml>=2.3.2 in c:\\users\\avalur\\anaconda3\\lib\\site-packages (from python-docx) (4.5.0)\n"
     ]
    }
   ],
   "source": [
    "!pip install python-docx"
   ]
  },
  {
   "cell_type": "code",
   "execution_count": 37,
   "metadata": {},
   "outputs": [],
   "source": [
    "import io\n",
    "import json\n",
    "from docx import Document\n",
    "\n",
    "with open('./DataStorage.json', encoding='utf-8') as course_json:\n",
    "    course = json.load(course_json)\n",
    "document = Document('./шаблон_РПД_спецкурс_МКН.docx')"
   ]
  },
  {
   "cell_type": "code",
   "execution_count": 38,
   "metadata": {},
   "outputs": [
    {
     "data": {
      "text/plain": [
       "{'Название курса': 'Введение в системы хранения и обработки данных',\n",
       " 'Course title in English': 'Data storage and processing systems: introduction',\n",
       " 'Формат': ['большой', 'малый', 'семинар'],\n",
       " 'Описание для студентов': 'Дать представление о внутреннем устройстве систем хранения и обработки данных: реляционных и нереляционных СУБД, систем пакетной обработки данных (MapReduce и пр.), сетевых дисков, распределенных файловых систем. Рассказать о типовой архитектуре серверных приложений, использующих системы хранения и обработки данных, на примере реальных приложений.',\n",
       " 'Пререквизиты': 'Очень желательно: знание основных алгоритмов и структур данных (достаточно будет, например, программы данного курса: https://www.coursera.org/specializations/algorithms)\\nПросто желательно: базовое знание сетевых протоколов, опыт разработки под linux, базовое знание C++',\n",
       " 'Результаты обучения': 'Предполагается, что после прохождения курса\\nобучающиеся смогут рассказать:\\n - как устроены популярные хранилища данных на уровне одной машины (грубо говоря, будут знать, что такое WAL, B-деревья, SS-tables и т. п.)\\n- каким образом реализуется распределенное хранение (что такое алгоритмы распределенного консенсуса, репликация, партиционирование данных, и пр.)\\n- как работают распределенные транзакции\\n- каким образом реализуется пакетная обработка данных\\nТакже после прохождения курса обучающиеся должны быть в состоянии принимать решения о выборе систем хранения данных, наиболее хорошо соответствующих нуждам своих серверных приложений. Не предполагается, что обучающиеся будут готовы разрабатывать собственное хранилище с нуля (все-таки этот курс — «введение»).',\n",
       " 'Разделы': ['Хранение данных', 'Обработка данных'],\n",
       " 'Вопросы к экзамену': ['Надежность, масштабируемость, удобство эксплуатации',\n",
       "  'Модели данных. Реляционная модель, языки запросов, графовая модель',\n",
       "  'Локальные хранилища. WAL, B-деревья, SS-tables, Хэш-индексы, поколоночное хранение'],\n",
       " 'Обязательная литература': ['Книжка 1', 'Книжка 2'],\n",
       " 'Дополнительная литература': [],\n",
       " 'Иные информационные источники': ['Сайт 1'],\n",
       " 'Разработчик': 'Стрелковский Андрей Владимирович, qkrorlqr@yandex-team.ru, ведущий разработчик в Службе разработки сетевого блочного устройства (сетевого диска) Яндекс.Облака.'}"
      ]
     },
     "execution_count": 38,
     "metadata": {},
     "output_type": "execute_result"
    }
   ],
   "source": [
    "course"
   ]
  },
  {
   "cell_type": "code",
   "execution_count": 39,
   "metadata": {},
   "outputs": [],
   "source": [
    "def change_text_in_paragrath(paragrath, new_text):\n",
    "    paragrath.runs[0].text = new_text\n",
    "    "
   ]
  },
  {
   "cell_type": "code",
   "execution_count": 40,
   "metadata": {},
   "outputs": [
    {
     "name": "stdout",
     "output_type": "stream",
     "text": [
      "Изменяем Название курса\n",
      "Изменяем Course title in English\n",
      "Изменяем Описание для студентов\n",
      "Изменяем Пререквизиты\n",
      "Изменяем Результаты обучения\n",
      "Изменяем Вопросы к экзамену\n",
      "Изменяем Обязательная литература\n",
      "Изменяем Дополнительная литература\n",
      "Изменяем Иные информационные источники\n",
      "Изменяем Разработчик\n"
     ]
    }
   ],
   "source": [
    "for p in document.paragraphs:\n",
    "\n",
    "    if p.text == \"Название курса\":\n",
    "        print(f\"Изменяем {p.text}\")\n",
    "        change_text_in_paragrath(p, course[\"Название курса\"])\n",
    "\n",
    "    elif p.text == \"Course title in English\":\n",
    "        print(f\"Изменяем {p.text}\")\n",
    "        change_text_in_paragrath(p, course[\"Course title in English\"])\n",
    "\n",
    "    elif p.text == \"Описание для студентов\":\n",
    "        print(f\"Изменяем {p.text}\")\n",
    "        change_text_in_paragrath(p, course[\"Описание для студентов\"])\n",
    "\n",
    "    elif p.text == \"Пререквизиты\":\n",
    "        print(f\"Изменяем {p.text}\")\n",
    "        change_text_in_paragrath(p, course[\"Пререквизиты\"])\n",
    "\n",
    "    elif p.text == \"Результаты обучения\":\n",
    "        print(f\"Изменяем {p.text}\")\n",
    "        change_text_in_paragrath(p, course[\"Результаты обучения\"])\n",
    "\n",
    "    elif p.text == \"Вопросы к экзамену\":\n",
    "        print(f\"Изменяем {p.text}\")\n",
    "        change_text_in_paragrath(p, course[\"Вопросы к экзамену\"])\n",
    "\n",
    "    elif p.text == \"Обязательная литература\":\n",
    "        print(f\"Изменяем {p.text}\")\n",
    "        change_text_in_paragrath(p, course[\"Обязательная литература\"])\n",
    "\n",
    "    elif p.text == \"Дополнительная литература\":\n",
    "        print(f\"Изменяем {p.text}\")\n",
    "        change_text_in_paragrath(p, course[\"Дополнительная литература\"])\n",
    "\n",
    "    elif p.text == \"Иные информационные источники\":\n",
    "        print(f\"Изменяем {p.text}\")\n",
    "        change_text_in_paragrath(p, course[\"Иные информационные источники\"])\n",
    "\n",
    "    elif p.text == \"Разработчик\":\n",
    "        print(f\"Изменяем {p.text}\")\n",
    "        change_text_in_paragrath(p, course[\"Разработчик\"])\n"
   ]
  },
  {
   "cell_type": "code",
   "execution_count": 41,
   "metadata": {},
   "outputs": [],
   "source": [
    "title_ru = course[\"Название курса\"]\n",
    "document.save(f'./{title_ru}.docx')"
   ]
  }
 ],
 "metadata": {
  "kernelspec": {
   "display_name": "Python 3",
   "language": "python",
   "name": "python3"
  },
  "language_info": {
   "codemirror_mode": {
    "name": "ipython",
    "version": 3
   },
   "file_extension": ".py",
   "mimetype": "text/x-python",
   "name": "python",
   "nbconvert_exporter": "python",
   "pygments_lexer": "ipython3",
   "version": "3.7.6"
  }
 },
 "nbformat": 4,
 "nbformat_minor": 4
}
